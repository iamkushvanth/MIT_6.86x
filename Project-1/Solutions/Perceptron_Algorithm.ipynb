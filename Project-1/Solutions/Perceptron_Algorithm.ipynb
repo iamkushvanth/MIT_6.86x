{
 "cells": [
  {
   "cell_type": "markdown",
   "id": "b80c2d61",
   "metadata": {},
   "source": [
    "# Perceptron Single Step Update"
   ]
  },
  {
   "cell_type": "code",
   "execution_count": 1,
   "id": "06ffa55f",
   "metadata": {},
   "outputs": [],
   "source": [
    "import numpy as np"
   ]
  },
  {
   "cell_type": "code",
   "execution_count": 2,
   "id": "081d8cba",
   "metadata": {},
   "outputs": [],
   "source": [
    "def perceptron_single_step_update(feature_vector, label, current_theta, current_theta_0, learning_rate=1.0):\n",
    "   \n",
    "    \n",
    "    prediction = np.dot(current_theta, feature_vector) + current_theta_0\n",
    "    \n",
    "    \n",
    "    if label * prediction <= 0:\n",
    "        current_theta += learning_rate * label * feature_vector\n",
    "        current_theta_0 += learning_rate * label\n",
    "    \n",
    "    return current_theta, current_theta_0\n"
   ]
  },
  {
   "cell_type": "code",
   "execution_count": 3,
   "id": "6122db34",
   "metadata": {},
   "outputs": [
    {
     "name": "stdout",
     "output_type": "stream",
     "text": [
      "Updated Theta: [ 0.5 -0.6  0.2]\n",
      "Updated Theta_0: 0.1\n"
     ]
    }
   ],
   "source": [
    "if __name__ == \"__main__\":\n",
    "    feature_vector = np.array([1.2, -0.7, 3.3])\n",
    "    label = 1\n",
    "    current_theta = np.array([0.5, -0.6, 0.2])\n",
    "    current_theta_0 = 0.1\n",
    "\n",
    "  \n",
    "    updated_theta, updated_theta_0 = perceptron_single_step_update(feature_vector, label, current_theta, current_theta_0)\n",
    "\n",
    "   \n",
    "    print(\"Updated Theta:\", updated_theta)\n",
    "    print(\"Updated Theta_0:\", updated_theta_0)\n"
   ]
  },
  {
   "cell_type": "markdown",
   "id": "9f0fe50b",
   "metadata": {},
   "source": [
    "# Full Perceptron Algorithm\n"
   ]
  },
  {
   "cell_type": "code",
   "execution_count": 4,
   "id": "ac0a15c3",
   "metadata": {},
   "outputs": [],
   "source": [
    "def get_order(n_samples):\n",
    "\n",
    "    return np.arange(n_samples)\n",
    "\n",
    "#get_order function for me by using it got differnet output, where as feature_matrix, labels, T values being same \n",
    "#if you are facing simillar issue,try running without the function \n",
    "\n",
    "\n",
    "def perceptron(feature_matrix, labels, T):\n",
    " \n",
    "\n",
    "    n_samples , n_features = feature_matrix.shape\n",
    "    theta = np.zeros(n_features)\n",
    "    theta_0 = 0.0\n",
    "    \n",
    "    for _ in range(T):\n",
    "        for i in get_order(n_samples):\n",
    "            x = feature_matrix[i]\n",
    "            y = labels[i]\n",
    "            theta, theta_0 = perceptron_single_step_update(x, y, theta, theta_0)\n",
    "    \n",
    "    return theta, theta_0   "
   ]
  },
  {
   "cell_type": "code",
   "execution_count": 5,
   "id": "2ee3209d",
   "metadata": {},
   "outputs": [
    {
     "name": "stdout",
     "output_type": "stream",
     "text": [
      "Trained weight vector (theta): [2. 2.]\n",
      "Trained bias term (theta_0): -1.0\n"
     ]
    }
   ],
   "source": [
    "if __name__ == \"__main__\":\n",
    "\n",
    "    feature_matrix = np.array([[0, 0], [0, 1], [1, 0], [1, 1]])\n",
    "    labels = np.array([-1, 1, 1, 1])\n",
    "    T = 1000  \n",
    "\n",
    "    theta, theta_0 = perceptron(feature_matrix, labels, T)\n",
    "\n",
    "    print(\"Trained weight vector (theta):\", theta)\n",
    "    print(\"Trained bias term (theta_0):\", theta_0)"
   ]
  },
  {
   "cell_type": "markdown",
   "id": "04154486",
   "metadata": {},
   "source": [
    "# Average Perceptron Algorithm\n",
    "\n",
    "theta _final = 1/nT *(theta ^(1) + theta ^(2) + ... + theta ^(nT))\n",
    "\n",
    "which can be written as cumulative_theta / total_updates , where as total_updates = nT"
   ]
  },
  {
   "cell_type": "code",
   "execution_count": 6,
   "id": "8e2e5765",
   "metadata": {},
   "outputs": [],
   "source": [
    "def get_order(n_samples):\n",
    "\n",
    "    return np.arange(n_samples)\n",
    "\n",
    "#get_order function for me by using it got differnet output, where as feature_matrix, labels, T values being same \n",
    "#if you are facing simillar issue,try running without the function\n",
    "\n",
    "\n",
    "def average_perceptron(feature_matrix, labels, T):\n",
    "\n",
    "    n_samples , n_features = feature_matrix.shape\n",
    "    theta = np.zeros(n_features)\n",
    "    theta_0 = 0.0\n",
    "    \n",
    "    cumulative_theta = np.zeros(n_features)\n",
    "    cumulative_theta_0 = 0.0\n",
    "\n",
    "    total_updates = n_samples * T\n",
    "    \n",
    "    for _ in range(T):\n",
    "        for i in get_order(n_samples):\n",
    "            x = feature_matrix[i]\n",
    "            y = labels[i]\n",
    "            theta, theta_0 = perceptron_single_step_update(x, y, theta, theta_0)\n",
    "            cumulative_theta +=theta\n",
    "            cumulative_theta_0 +=theta_0\n",
    "            \n",
    "        avg_theta =  cumulative_theta / total_updates\n",
    "        avg_theta_0 = cumulative_theta_0 / total_updates\n",
    "    \n",
    "    return avg_theta, avg_theta_0   "
   ]
  },
  {
   "cell_type": "code",
   "execution_count": 7,
   "id": "b60b3eb6",
   "metadata": {},
   "outputs": [
    {
     "name": "stdout",
     "output_type": "stream",
     "text": [
      "avg_theta: [1.996  1.9975]\n",
      "avg_theta_0: -0.9965\n"
     ]
    }
   ],
   "source": [
    "if __name__ == \"__main__\":\n",
    "\n",
    "    feature_matrix = np.array([[0, 0], [0, 1], [1, 0], [1, 1]])\n",
    "    labels = np.array([-1, 1, 1, 1])\n",
    "    T = 1000  \n",
    "\n",
    "    avg_theta, avg_theta_0 = average_perceptron(feature_matrix, labels, T)\n",
    "\n",
    "    print(\"avg_theta:\", avg_theta)\n",
    "    print(\"avg_theta_0:\", avg_theta_0)"
   ]
  },
  {
   "cell_type": "code",
   "execution_count": null,
   "id": "660bcfce",
   "metadata": {},
   "outputs": [],
   "source": []
  }
 ],
 "metadata": {
  "kernelspec": {
   "display_name": "Python 3 (ipykernel)",
   "language": "python",
   "name": "python3"
  },
  "language_info": {
   "codemirror_mode": {
    "name": "ipython",
    "version": 3
   },
   "file_extension": ".py",
   "mimetype": "text/x-python",
   "name": "python",
   "nbconvert_exporter": "python",
   "pygments_lexer": "ipython3",
   "version": "3.11.5"
  }
 },
 "nbformat": 4,
 "nbformat_minor": 5
}
