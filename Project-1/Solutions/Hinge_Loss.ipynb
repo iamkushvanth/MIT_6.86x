{
 "cells": [
  {
   "cell_type": "markdown",
   "id": "97ada02c",
   "metadata": {},
   "source": [
    "# Hinge_Loss_Calculation_For_a_Single_Data_Point"
   ]
  },
  {
   "cell_type": "markdown",
   "id": "1f79d302",
   "metadata": {},
   "source": [
    "To calculate Prediction we dot product feature_Vector with theta and add bias term theta_0 to it\n",
    "\n",
    "Prediction = θ^Tx_i+θ_0\n",
    "\n",
    "hinge loss : max(0,1−y_i(θ^Tx_i+θ_0))\n",
    "    "
   ]
  },
  {
   "cell_type": "code",
   "execution_count": 1,
   "id": "be889288",
   "metadata": {},
   "outputs": [],
   "source": [
    "from string import punctuation, digits\n",
    "import numpy as np\n",
    "import random"
   ]
  },
  {
   "cell_type": "code",
   "execution_count": 2,
   "id": "4ac8910f",
   "metadata": {},
   "outputs": [],
   "source": [
    "def hinge_loss_single(feature_vector, label, theta, theta_0):\n",
    "    \n",
    "    prediction = np.dot(theta, feature_vector) + theta_0\n",
    "        \n",
    "    loss = max(0, 1 - label * prediction)\n",
    "    \n",
    "    return loss   \n",
    " "
   ]
  },
  {
   "cell_type": "code",
   "execution_count": 3,
   "id": "bccddcec",
   "metadata": {},
   "outputs": [
    {
     "name": "stdout",
     "output_type": "stream",
     "text": [
      "Hinge loss: 0\n"
     ]
    }
   ],
   "source": [
    "if __name__ == \"__main__\":\n",
    "    feature_vector = np.array([1.2, -0.7, 3.3])\n",
    "    label = 1\n",
    "    theta = np.array([0.5, -0.6, 0.2])\n",
    "    theta_0 = 0.1\n",
    "\n",
    "    print(\"Hinge loss:\", hinge_loss_single(feature_vector, label, theta, theta_0))"
   ]
  },
  {
   "cell_type": "markdown",
   "id": "04c381a4",
   "metadata": {},
   "source": [
    "# Complete_Hinge_Loss_For_a_Full_Set_of_Data"
   ]
  },
  {
   "cell_type": "markdown",
   "id": "f7a6169a",
   "metadata": {},
   "source": [
    "And Here instead feature_vector we use feature_matrix and to calcualte total loss we take mean of all single losses "
   ]
  },
  {
   "cell_type": "code",
   "execution_count": 4,
   "id": "2c091485",
   "metadata": {},
   "outputs": [],
   "source": [
    "def hinge_loss_full(feature_matrix, labels, theta, theta_0):\n",
    "    \n",
    "    predictions = np.dot(feature_matrix, theta) + theta_0\n",
    "    \n",
    "   \n",
    "    losses = np.maximum(0, 1 - labels * predictions)\n",
    "    \n",
    "   \n",
    "    total_loss = np.mean(losses)\n",
    "    \n",
    "    return total_loss"
   ]
  },
  {
   "cell_type": "code",
   "execution_count": 5,
   "id": "f8d2e93d",
   "metadata": {},
   "outputs": [
    {
     "name": "stdout",
     "output_type": "stream",
     "text": [
      "Total Hinge loss: 0.5366666666666666\n"
     ]
    }
   ],
   "source": [
    "if __name__ == \"__main__\":\n",
    "    feature_matrix = np.array([[1.2, -0.7, 3.3], [0.4, 0.5, -1.2], [1.1, 0.3, 0.8]])\n",
    "    labels = np.array([1, -1, 1])\n",
    "    theta = np.array([0.5, -0.6, 0.2])\n",
    "    theta_0 = 0.1\n",
    "\n",
    "    print(\"Total Hinge loss:\", hinge_loss_full(feature_matrix, label, theta, theta_0))\n"
   ]
  }
 ],
 "metadata": {
  "kernelspec": {
   "display_name": "Python 3 (ipykernel)",
   "language": "python",
   "name": "python3"
  },
  "language_info": {
   "codemirror_mode": {
    "name": "ipython",
    "version": 3
   },
   "file_extension": ".py",
   "mimetype": "text/x-python",
   "name": "python",
   "nbconvert_exporter": "python",
   "pygments_lexer": "ipython3",
   "version": "3.11.5"
  }
 },
 "nbformat": 4,
 "nbformat_minor": 5
}
