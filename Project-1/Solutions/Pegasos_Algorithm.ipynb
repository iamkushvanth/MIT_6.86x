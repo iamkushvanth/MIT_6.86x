{
 "cells": [
  {
   "cell_type": "markdown",
   "id": "0f836577",
   "metadata": {},
   "source": [
    "# Pegasos Algorithm"
   ]
  },
  {
   "cell_type": "markdown",
   "id": "5e1f0911",
   "metadata": {},
   "source": [
    "# 1. Pegasos Single Step Update"
   ]
  },
  {
   "cell_type": "code",
   "execution_count": 3,
   "id": "ec357a4a",
   "metadata": {},
   "outputs": [],
   "source": [
    "import numpy as np"
   ]
  },
  {
   "cell_type": "code",
   "execution_count": 5,
   "id": "1472c0d0",
   "metadata": {},
   "outputs": [],
   "source": [
    "def pegasos_single_step_update(\n",
    "        feature_vector,\n",
    "        label,\n",
    "        L,\n",
    "        eta,\n",
    "        theta,\n",
    "        theta_0):\n",
    "        \n",
    "        \n",
    "    if label*(np.dot(theta, feature_vector)+theta_0) <= 1:\n",
    "        theta = (1-eta*L)*theta + eta*label*feature_vector\n",
    "        theta_0 = theta_0+eta*label\n",
    "    else:\n",
    "        theta = (1-eta*L)*theta\n",
    "\n",
    "    return theta, theta_0"
   ]
  },
  {
   "cell_type": "code",
   "execution_count": 6,
   "id": "1d961e7e",
   "metadata": {},
   "outputs": [
    {
     "name": "stdout",
     "output_type": "stream",
     "text": [
      "Updated Theta: [ 0.5 -0.6  0.2]\n",
      "Updated Theta_0: 0.1\n"
     ]
    }
   ],
   "source": [
    "if __name__ == \"__main__\":\n",
    "    feature_vector = np.array([1.2, -0.7, 3.3])\n",
    "    label = 1\n",
    "    L = 0\n",
    "    eta = 1\n",
    "    theta = np.array([0.5, -0.6, 0.2])\n",
    "    theta_0 = 0.1\n",
    "\n",
    "  \n",
    "    updated_theta, updated_theta_0 = pegasos_single_step_update(feature_vector,label,L,eta,theta,theta_0)\n",
    "   \n",
    "    print(\"Updated Theta:\", updated_theta)\n",
    "    print(\"Updated Theta_0:\", updated_theta_0)\n"
   ]
  },
  {
   "cell_type": "markdown",
   "id": "e770f48f",
   "metadata": {},
   "source": [
    "# 2. Full Pegasos Algorithm\n"
   ]
  },
  {
   "cell_type": "code",
   "execution_count": 4,
   "id": "e3ee0a3c",
   "metadata": {},
   "outputs": [],
   "source": [
    "def pegasos(feature_matrix, labels, T, L):\n",
    "    \n",
    "    theta = np.zeros(feature_matrix.shape[1])\n",
    "    theta_0 = 0\n",
    "    nt = 0\n",
    "    for t in range(T):\n",
    "        for i in get_order(feature_matrix.shape[0]):\n",
    "            nt += 1\n",
    "            theta, theta_0 = pegasos_single_step_update(feature_matrix[i], labels[i], L, 1/np.sqrt(nt), theta, theta_0)\n",
    "    return theta, theta_0"
   ]
  },
  {
   "cell_type": "code",
   "execution_count": 5,
   "id": "5a389c47",
   "metadata": {},
   "outputs": [
    {
     "ename": "NameError",
     "evalue": "name 'get_order' is not defined",
     "output_type": "error",
     "traceback": [
      "\u001b[1;31m---------------------------------------------------------------------------\u001b[0m",
      "\u001b[1;31mNameError\u001b[0m                                 Traceback (most recent call last)",
      "Cell \u001b[1;32mIn[5], line 7\u001b[0m\n\u001b[0;32m      4\u001b[0m T \u001b[38;5;241m=\u001b[39m \u001b[38;5;241m1000\u001b[39m  \n\u001b[0;32m      5\u001b[0m L \u001b[38;5;241m=\u001b[39m \u001b[38;5;241m0.1\u001b[39m\n\u001b[1;32m----> 7\u001b[0m theta, theta_0 \u001b[38;5;241m=\u001b[39m pegasos(feature_matrix, labels, T, L)\n\u001b[0;32m      9\u001b[0m \u001b[38;5;28mprint\u001b[39m(\u001b[38;5;124m\"\u001b[39m\u001b[38;5;124mFinal Theta:\u001b[39m\u001b[38;5;124m\"\u001b[39m, theta)\n\u001b[0;32m     10\u001b[0m \u001b[38;5;28mprint\u001b[39m(\u001b[38;5;124m\"\u001b[39m\u001b[38;5;124mFinal Theta_0:\u001b[39m\u001b[38;5;124m\"\u001b[39m, theta_0)\n",
      "Cell \u001b[1;32mIn[4], line 7\u001b[0m, in \u001b[0;36mpegasos\u001b[1;34m(feature_matrix, labels, T, L)\u001b[0m\n\u001b[0;32m      5\u001b[0m nt \u001b[38;5;241m=\u001b[39m \u001b[38;5;241m0\u001b[39m\n\u001b[0;32m      6\u001b[0m \u001b[38;5;28;01mfor\u001b[39;00m t \u001b[38;5;129;01min\u001b[39;00m \u001b[38;5;28mrange\u001b[39m(T):\n\u001b[1;32m----> 7\u001b[0m     \u001b[38;5;28;01mfor\u001b[39;00m i \u001b[38;5;129;01min\u001b[39;00m get_order(feature_matrix\u001b[38;5;241m.\u001b[39mshape[\u001b[38;5;241m0\u001b[39m]):\n\u001b[0;32m      8\u001b[0m         nt \u001b[38;5;241m+\u001b[39m\u001b[38;5;241m=\u001b[39m \u001b[38;5;241m1\u001b[39m\n\u001b[0;32m      9\u001b[0m         theta, theta_0 \u001b[38;5;241m=\u001b[39m pegasos_single_step_update(feature_matrix[i], labels[i], L, \u001b[38;5;241m1\u001b[39m\u001b[38;5;241m/\u001b[39mnp\u001b[38;5;241m.\u001b[39msqrt(nt), theta, theta_0)\n",
      "\u001b[1;31mNameError\u001b[0m: name 'get_order' is not defined"
     ]
    }
   ],
   "source": [
    "if __name__ == \"__main__\":\n",
    "    feature_matrix = np.array([[2, 3], [1, 2], [2, 1], [3, 3]])\n",
    "    labels = np.array([1, 1, -1, -1])\n",
    "    T = 1000  \n",
    "    L = 0.1\n",
    "    \n",
    "    theta, theta_0 = pegasos(feature_matrix, labels, T, L)\n",
    "   \n",
    "    print(\"Final Theta:\", theta)\n",
    "    print(\"Final Theta_0:\", theta_0)"
   ]
  },
  {
   "cell_type": "code",
   "execution_count": null,
   "id": "e7d7704e",
   "metadata": {},
   "outputs": [],
   "source": []
  }
 ],
 "metadata": {
  "kernelspec": {
   "display_name": "Python 3 (ipykernel)",
   "language": "python",
   "name": "python3"
  },
  "language_info": {
   "codemirror_mode": {
    "name": "ipython",
    "version": 3
   },
   "file_extension": ".py",
   "mimetype": "text/x-python",
   "name": "python",
   "nbconvert_exporter": "python",
   "pygments_lexer": "ipython3",
   "version": "3.11.5"
  }
 },
 "nbformat": 4,
 "nbformat_minor": 5
}
